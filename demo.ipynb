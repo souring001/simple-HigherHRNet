{
 "cells": [
  {
   "cell_type": "code",
   "execution_count": null,
   "metadata": {},
   "outputs": [],
   "source": [
    "import cv2\n",
    "from SimpleHigherHRNet import SimpleHigherHRNet\n",
    "from misc import visualization\n",
    "from matplotlib import pyplot as plt\n",
    "import math\n",
    "import os\n",
    "from IPython.display import clear_output\n",
    "\n",
    "ROOT_DIR = os.path.abspath(\"./\")\n",
    "IMAGE_DIR = os.path.join(ROOT_DIR, 'run_around_mask')\n",
    "OUT_DIR = os.path.join(ROOT_DIR, 'output-higherhrnet')\n",
    "\n",
    "os.makedirs(OUT_DIR, exist_ok=True)\n",
    "\n",
    "# model = SimpleHigherHRNet(48, 17, './weights/pose_higher_hrnet_w48_640.pth')\n",
    "model = SimpleHigherHRNet(32, 17, \"./weights/pose_higher_hrnet_w32_512.pth\")\n",
    "joints_dict = visualization.joints_dict()\n",
    "\n",
    "file_names = next(os.walk(IMAGE_DIR))[2]\n",
    "\n",
    "for file_name in sorted(file_names):\n",
    "    image = cv2.imread(os.path.join(IMAGE_DIR, file_name), cv2.IMREAD_COLOR)\n",
    "    joints = model.predict(image)\n",
    "    \n",
    "    image = visualization.draw_points_and_skeleton(image, joints[0], joints_dict['coco']['skeleton'], confidence_threshold=0.0)\n",
    "    cv2.imwrite(os.path.join(OUT_DIR, file_name), image)\n",
    "    \n",
    "    clear_output(wait=True)\n",
    "    print(file_name)\n",
    "    \n",
    "print('done.')"
   ]
  },
  {
   "cell_type": "code",
   "execution_count": null,
   "metadata": {},
   "outputs": [],
   "source": [
    "!tar cfz output-higherhrnet.tgz output-higherhrnet"
   ]
  },
  {
   "cell_type": "markdown",
   "metadata": {},
   "source": [
    "テスト"
   ]
  },
  {
   "cell_type": "code",
   "execution_count": null,
   "metadata": {},
   "outputs": [],
   "source": [
    "import cv2\n",
    "from SimpleHigherHRNet import SimpleHigherHRNet\n",
    "\n",
    "model = SimpleHigherHRNet(32, 17, \"./weights/pose_higher_hrnet_w32_512.pth\")\n",
    "image = cv2.imread(\"run_around_mask/run_052_eq.jpg\", cv2.IMREAD_COLOR)\n",
    "\n",
    "joints = model.predict(image)"
   ]
  },
  {
   "cell_type": "code",
   "execution_count": null,
   "metadata": {},
   "outputs": [],
   "source": [
    "from misc import visualization\n",
    "from matplotlib import pyplot as plt\n",
    "\n",
    "joints_dict = visualization.joints_dict()\n",
    "image = visualization.draw_points_and_skeleton(image, joints[0], joints_dict['coco']['skeleton'], confidence_threshold=0.0)\n",
    "\n",
    "image2 = cv2.cvtColor(image, cv2.COLOR_BGR2RGB)\n",
    "plt.imshow(image2)\n",
    "plt.xticks([]), plt.yticks([])  # to hide tick values on X and Y axis\n",
    "plt.show()"
   ]
  }
 ],
 "metadata": {
  "kernelspec": {
   "display_name": "Python [conda env:hrnet]",
   "language": "python",
   "name": "conda-env-hrnet-py"
  },
  "language_info": {
   "codemirror_mode": {
    "name": "ipython",
    "version": 3
   },
   "file_extension": ".py",
   "mimetype": "text/x-python",
   "name": "python",
   "nbconvert_exporter": "python",
   "pygments_lexer": "ipython3",
   "version": "3.6.10"
  }
 },
 "nbformat": 4,
 "nbformat_minor": 2
}
